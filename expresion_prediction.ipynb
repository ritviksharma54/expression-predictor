{
  "nbformat": 4,
  "nbformat_minor": 0,
  "metadata": {
    "colab": {
      "provenance": [],
      "authorship_tag": "ABX9TyO1s6FaJD4o0ptasjbMCKBF",
      "include_colab_link": true
    },
    "kernelspec": {
      "name": "python3",
      "display_name": "Python 3"
    },
    "language_info": {
      "name": "python"
    }
  },
  "cells": [
    {
      "cell_type": "markdown",
      "metadata": {
        "id": "view-in-github",
        "colab_type": "text"
      },
      "source": [
        "<a href=\"https://colab.research.google.com/github/ritviksharma54/expression-predictor/blob/main/expresion_prediction.ipynb\" target=\"_parent\"><img src=\"https://colab.research.google.com/assets/colab-badge.svg\" alt=\"Open In Colab\"/></a>"
      ]
    },
    {
      "cell_type": "code",
      "source": [
        "!pip install landingai &> /dev/null\n",
        "!pip install pillow &> /dev/null"
      ],
      "metadata": {
        "id": "-4e8FsSgVYwh"
      },
      "execution_count": 2,
      "outputs": []
    },
    {
      "cell_type": "code",
      "execution_count": 9,
      "metadata": {
        "colab": {
          "base_uri": "https://localhost:8080/"
        },
        "id": "ZsYx16M3Uxbc",
        "outputId": "d5489d97-5de3-4b72-884b-34310f6440ff"
      },
      "outputs": [
        {
          "output_type": "execute_result",
          "data": {
            "text/plain": [
              "[ClassificationPrediction(score=0.2879638075828552, label_name='happy', label_index=2)]"
            ]
          },
          "metadata": {},
          "execution_count": 9
        }
      ],
      "source": [
        "from PIL import Image\n",
        "from landingai.predict import Predictor\n",
        "# Enter your API Key\n",
        "endpoint_id = \"07d4515c-a0f1-4263-be4e-65328a38917a\"\n",
        "api_key = \"land_sk_5WMeYXauErP06tmzjWahl91Ute72Oi6AY6GKVrTw6DkdMmohiu\"\n",
        "# Load your image\n",
        "image = Image.open(\"/WIN_20240620_12_06_24_Pro.jpg\")\n",
        "# Run inference\n",
        "predictor = Predictor(endpoint_id, api_key=api_key)\n",
        "predictions = predictor.predict(image)\n",
        "predictions"
      ]
    }
  ]
}